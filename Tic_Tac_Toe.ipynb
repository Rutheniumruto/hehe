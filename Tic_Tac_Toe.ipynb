{
  "nbformat": 4,
  "nbformat_minor": 0,
  "metadata": {
    "colab": {
      "provenance": [],
      "include_colab_link": true
    },
    "kernelspec": {
      "name": "python3",
      "display_name": "Python 3"
    },
    "language_info": {
      "name": "python"
    }
  },
  "cells": [
    {
      "cell_type": "markdown",
      "metadata": {
        "id": "view-in-github",
        "colab_type": "text"
      },
      "source": [
        "<a href=\"https://colab.research.google.com/github/Rutheniumruto/hehe/blob/main/Tic_Tac_Toe.ipynb\" target=\"_parent\"><img src=\"https://colab.research.google.com/assets/colab-badge.svg\" alt=\"Open In Colab\"/></a>"
      ]
    },
    {
      "cell_type": "code",
      "execution_count": null,
      "metadata": {
        "id": "nPzP7sPMga4R",
        "colab": {
          "base_uri": "https://localhost:8080/"
        },
        "outputId": "6747437c-04df-4200-9909-f7faa5a82807"
      },
      "outputs": [
        {
          "output_type": "stream",
          "name": "stdout",
          "text": [
            "['_', '_', '_']\n",
            "['_', '_', '_']\n",
            "['_', '_', '_']\n",
            "Enter the row: 2\n",
            "Enter the column: 1\n",
            "['_', '_', '_']\n",
            "['_', '_', '_']\n",
            "['_', 'X', '_']\n",
            "Enter the row: 0\n",
            "Enter the column: 1\n",
            "['_', 'X', '_']\n",
            "['_', '_', '_']\n",
            "['_', 'X', '_']\n",
            "Enter the row: 2\n",
            "Enter the column: 1\n",
            "Choose another spot\n",
            "Enter the row: 2\n",
            "Enter the column: 2\n",
            "['_', 'X', '_']\n",
            "['_', '_', '_']\n",
            "['_', 'X', 'X']\n"
          ]
        }
      ],
      "source": [
        "# Fill in your code here. See the Slide for explanation\n",
        "\n",
        "\n",
        "# Milestone#1: Initialization\n",
        "board = [['_','_','_'],\n",
        "         ['_','_','_'],\n",
        "         ['_','_','_']]\n",
        "turn = 'X'\n",
        "game_status = 'Ongoing'\n",
        "for row in board:\n",
        "    print(row)\n",
        "\n",
        "\n",
        "\n",
        "# Milestone#2: Game loop\n",
        "while game_status == 'Ongoing':\n",
        "    i = int(input('Enter the row: '))\n",
        "    j = int(input('Enter the column: '))\n",
        "\n",
        "    if board [i][j] == '_':\n",
        "      board [i][j] = turn\n",
        "    else :\n",
        "         print(\"Choose another spot\")\n",
        "         continue\n",
        "\n",
        "    for row in board:\n",
        "        print(row)\n",
        "\n",
        "\n",
        "\n",
        "\n",
        "# Milestone#3: Check game's status (inside the game loop)\n",
        "\n",
        "\n",
        "\n",
        "# Once you get out of the game loop, print out the winner here\n"
      ]
    },
    {
      "cell_type": "markdown",
      "source": [],
      "metadata": {
        "id": "WamCIDeJVqjJ"
      }
    }
  ]
}