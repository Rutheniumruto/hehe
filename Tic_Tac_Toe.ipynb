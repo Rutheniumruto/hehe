{
  "nbformat": 4,
  "nbformat_minor": 0,
  "metadata": {
    "colab": {
      "provenance": [],
      "include_colab_link": true
    },
    "kernelspec": {
      "name": "python3",
      "display_name": "Python 3"
    },
    "language_info": {
      "name": "python"
    }
  },
  "cells": [
    {
      "cell_type": "markdown",
      "metadata": {
        "id": "view-in-github",
        "colab_type": "text"
      },
      "source": [
        "<a href=\"https://colab.research.google.com/github/Rutheniumruto/hehe/blob/main/Tic_Tac_Toe.ipynb\" target=\"_parent\"><img src=\"https://colab.research.google.com/assets/colab-badge.svg\" alt=\"Open In Colab\"/></a>"
      ]
    },
    {
      "cell_type": "code",
      "execution_count": null,
      "metadata": {
        "id": "nPzP7sPMga4R",
        "colab": {
          "base_uri": "https://localhost:8080/"
        },
        "outputId": "96b23fa2-3b1d-4dec-cf7e-6c7b41e6414d"
      },
      "outputs": [
        {
          "output_type": "stream",
          "name": "stdout",
          "text": [
            "['_', '_', '_']\n",
            "['_', '_', '_']\n",
            "['_', '_', '_']\n",
            "Enter the row(0, 1, or 2): 1\n",
            "Enter the column(0, 1,or 2): 0\n",
            "['_', '_', '_']\n",
            "['X', '_', '_']\n",
            "['_', '_', '_']\n",
            "Enter the row(0, 1, or 2): 1\n",
            "Enter the column(0, 1,or 2): 1\n",
            "['_', '_', '_']\n",
            "['X', 'O', '_']\n",
            "['_', '_', '_']\n",
            "Enter the row(0, 1, or 2): 0\n",
            "Enter the column(0, 1,or 2): 0\n",
            "['X', '_', '_']\n",
            "['X', 'O', '_']\n",
            "['_', '_', '_']\n",
            "Enter the row(0, 1, or 2): 1\n",
            "Enter the column(0, 1,or 2): 0\n",
            "Choose another spot\n",
            "Enter the row(0, 1, or 2): 0\n",
            "Enter the column(0, 1,or 2): 1\n",
            "['X', 'O', '_']\n",
            "['X', 'O', '_']\n",
            "['_', '_', '_']\n",
            "Enter the row(0, 1, or 2): 2\n",
            "Enter the column(0, 1,or 2): 0\n",
            "['X', 'O', '_']\n",
            "['X', 'O', '_']\n",
            "['X', '_', '_']\n",
            "Enter the row(0, 1, or 2): 2\n",
            "Enter the column(0, 1,or 2): 1\n",
            "['X', 'O', '_']\n",
            "['X', 'O', '_']\n",
            "['X', 'O', '_']\n",
            "Enter the row(0, 1, or 2): 0\n",
            "Enter the column(0, 1,or 2): 2\n",
            "['X', 'O', 'X']\n",
            "['X', 'O', '_']\n",
            "['X', 'O', '_']\n",
            "Enter the row(0, 1, or 2): 1\n",
            "Enter the column(0, 1,or 2): 2\n",
            "['X', 'O', 'X']\n",
            "['X', 'O', 'O']\n",
            "['X', 'O', '_']\n",
            "Enter the row(0, 1, or 2): 2\n",
            "Enter the column(0, 1,or 2): 2\n",
            "['X', 'O', 'X']\n",
            "['X', 'O', 'O']\n",
            "['X', 'O', 'X']\n"
          ]
        }
      ],
      "source": [
        "# Fill in your code here. See the Slide for explanation\n",
        "\n",
        "\n",
        "# Milestone#1: Initialization\n",
        "board = [['_','_','_'],\n",
        "         ['_','_','_'],\n",
        "         ['_','_','_']]\n",
        "turn = 'X'\n",
        "game_status = 'Ongoing'\n",
        "for row in board:\n",
        "    print(row)\n",
        "\n",
        "\n",
        "\n",
        "# Milestone#2: Game loop\n",
        "while game_status == 'Ongoing':\n",
        "    i = int(input('Enter the row(0, 1, or 2): '))\n",
        "    j = int(input('Enter the column(0, 1,or 2): '))\n",
        "\n",
        "    if board [i][j] == '_':\n",
        "      board [i][j] = turn\n",
        "    else :\n",
        "         print(\"Choose another spot\")\n",
        "         continue\n",
        "\n",
        "    for row in board:\n",
        "        print(row)\n",
        "        if turn == 'X':\n",
        "           turn = 'O'\n",
        "        else:\n",
        "           turn = 'X'\n",
        "\n",
        "\n",
        "\n",
        "# Milestone#3: Check game's status (inside the game loop)\n",
        "check_status = \"Ongoing\"\n",
        "for i in range(3):\n",
        "  #row and column\n",
        "    if board [i][0] == board [i][1] == board [i][2] != '_':\n",
        "        check_status = board [i][0]\n",
        "    if board [0][i] == board [i][1] == board [i][2] != '_':\n",
        "        check_status = board [0][i]\n",
        "  #diagonal\n",
        "    if board [0][0] == board [1][1] == board [2][2] != '_':\n",
        "        check_status = board [0][0]\n",
        "    if board [0][2] == board [1][1] == board [2][0] != '_':\n",
        "        check_status = board [0][2]\n",
        "\n",
        "\n",
        "# Once you get out of the game loop, print out the winner here\n"
      ]
    },
    {
      "cell_type": "markdown",
      "source": [],
      "metadata": {
        "id": "WamCIDeJVqjJ"
      }
    }
  ]
}