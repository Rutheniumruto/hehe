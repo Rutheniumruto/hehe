{
  "nbformat": 4,
  "nbformat_minor": 0,
  "metadata": {
    "colab": {
      "provenance": [],
      "include_colab_link": true
    },
    "kernelspec": {
      "name": "python3",
      "display_name": "Python 3"
    },
    "language_info": {
      "name": "python"
    }
  },
  "cells": [
    {
      "cell_type": "markdown",
      "metadata": {
        "id": "view-in-github",
        "colab_type": "text"
      },
      "source": [
        "<a href=\"https://colab.research.google.com/github/Rutheniumruto/hehe/blob/main/AlmostTic_Tac_Toe.ipynb\" target=\"_parent\"><img src=\"https://colab.research.google.com/assets/colab-badge.svg\" alt=\"Open In Colab\"/></a>"
      ]
    },
    {
      "cell_type": "code",
      "execution_count": 12,
      "metadata": {
        "id": "nPzP7sPMga4R",
        "colab": {
          "base_uri": "https://localhost:8080/",
          "height": 106
        },
        "outputId": "84d5c731-1633-4278-a526-e1c81f6a9e0c"
      },
      "outputs": [
        {
          "output_type": "error",
          "ename": "SyntaxError",
          "evalue": "invalid syntax (<ipython-input-12-67b8a1c7e0f4>, line 41)",
          "traceback": [
            "\u001b[0;36m  File \u001b[0;32m\"<ipython-input-12-67b8a1c7e0f4>\"\u001b[0;36m, line \u001b[0;32m41\u001b[0m\n\u001b[0;31m    if board[2] [0] == board[2] [1] and board[2][1] == board[2] [2] and board[2] [0] !=\u001b[0m\n\u001b[0m                                                                                        ^\u001b[0m\n\u001b[0;31mSyntaxError\u001b[0m\u001b[0;31m:\u001b[0m invalid syntax\n"
          ]
        }
      ],
      "source": [
        "# Fill in your code here. See the Slide for explanation\n",
        "\n",
        "\n",
        "# Milestone#1: Initialization\n",
        "board = [['_','_','_'],\n",
        "         ['_','_','_'],\n",
        "         ['_','_','_']]\n",
        "turn = 'X'\n",
        "game_status = 'Ongoing'\n",
        "for row in board:\n",
        "    print(row)\n",
        "\n",
        "\n",
        "\n",
        "# Milestone#2: Game loop\n",
        "while game_status == 'Ongoing':\n",
        "    i = int(input('Enter the row(0, 1, or 2): '))\n",
        "    j = int(input('Enter the column(0, 1,or 2): '))\n",
        "\n",
        "    if board [i][j] == '_':\n",
        "      board [i][j] = turn\n",
        "    else :\n",
        "         print(\"Choose another spot\")\n",
        "         continue\n",
        "\n",
        "    for row in board:\n",
        "        print(row)\n",
        "        if turn == 'X':\n",
        "           turn = 'O'\n",
        "        else:\n",
        "           turn = 'X'\n",
        "\n",
        "\n",
        "\n",
        "# Milestone#3: Check game's status (inside the game loop)\n",
        "check_status = \"Ongoing\"\n",
        "if board[0][0] == board[0] [1] and board[0][1] == board[0] [2] and board[0][0] != '_':\n",
        "   check_status = board[0] [0]\n",
        "if board[1][0] == board [1] [1] and board [1] [1] == board[1] [2] and board[1] [0] != '_':\n",
        "   check_status = board[1][0]\n",
        "if board[2] [0] == board[2] [1] and board[2][1] == board[2] [2] and board[2] [0] !=\n",
        "   check_status = board[2] [0]\n",
        "### Column ###\n",
        "if board[0][0] == board[1] [0] and board [1][0] ==  board[2] [0] and board[0][0] != '_':\n",
        "   check_status = board[0] [0]\n",
        "if board[0][1] == board [1] [1] and board[1][1] == board[2] [1] and board[0][1] != '_':\n",
        "   check_status = board[0] [1]\n",
        "if board[0][2] == board[1] [2] and board[1][2] == board[2] [2] and board[0][2] != '_':\n",
        "   check_status = board[0] [2]\n",
        "### Diag ###\n",
        "if board[0][0] == board[1][1] and board[1][1]== board[2] [2] and board[0] [0] != '':\n",
        "    check_status = board[0] [0]\n",
        "if board[0][2] == board[1][1] and board [1] [1]==  board[2] [0] and board[0][2] != '_':\n",
        "    check_status = board[0][2]\n",
        "\n",
        "if (board[0][0] != '_' and board[0] [1] != '_' and board[0][2] == '_' and\n",
        "    board[1][0] != '_' and board [1] [1] != '_' and board[1][2] == '_' and\n",
        "    board[2][0] != '_' and board [2] [1] != '_' and board[2][2] == '_'):\n",
        " check_status = 'draw'\n",
        "\n",
        "# Once you get out of the game loop, print out the winner here\n",
        "if check_status : 'Ongoing'\n",
        "   print(f\"The winner is {check_status}\")\n",
        "\n"
      ]
    },
    {
      "cell_type": "markdown",
      "source": [],
      "metadata": {
        "id": "WamCIDeJVqjJ"
      }
    }
  ]
}