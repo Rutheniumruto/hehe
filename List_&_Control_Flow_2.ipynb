{
  "nbformat": 4,
  "nbformat_minor": 0,
  "metadata": {
    "colab": {
      "provenance": [],
      "include_colab_link": true
    },
    "kernelspec": {
      "name": "python3",
      "display_name": "Python 3"
    },
    "language_info": {
      "name": "python"
    }
  },
  "cells": [
    {
      "cell_type": "markdown",
      "metadata": {
        "id": "view-in-github",
        "colab_type": "text"
      },
      "source": [
        "<a href=\"https://colab.research.google.com/github/Rutheniumruto/hehe/blob/main/List_%26_Control_Flow_2.ipynb\" target=\"_parent\"><img src=\"https://colab.research.google.com/assets/colab-badge.svg\" alt=\"Open In Colab\"/></a>"
      ]
    },
    {
      "cell_type": "markdown",
      "source": [
        "Q1: What will the following program print out?\n",
        "\n",
        "```\n",
        "total = 0\n",
        "for i in range(10):\n",
        "  total += 3\n",
        "print(total)\n",
        "```"
      ],
      "metadata": {
        "id": "ODKYgrQEa-TU"
      }
    },
    {
      "cell_type": "code",
      "source": [
        "#30"
      ],
      "metadata": {
        "id": "IH6QNFtFa92g"
      },
      "execution_count": 2,
      "outputs": []
    },
    {
      "cell_type": "markdown",
      "source": [
        "Q2: Fill in the following program so that the program prints out [2, 4, 6, 8]."
      ],
      "metadata": {
        "id": "GTxbrE2Ubevf"
      }
    },
    {
      "cell_type": "code",
      "execution_count": 15,
      "metadata": {
        "id": "Rmv4Pj5IaxBN",
        "colab": {
          "base_uri": "https://localhost:8080/"
        },
        "outputId": "bd765cb1-981a-490d-bdee-93fe480c76ce"
      },
      "outputs": [
        {
          "output_type": "stream",
          "name": "stdout",
          "text": [
            "[2, 4, 6, 8]\n"
          ]
        }
      ],
      "source": [
        "my_list = [1, 2, 3, 4]\n",
        "for i in range(len(my_list)):\n",
        "  my_list[i] =  (i+1)*2 # Fill in your code here\n",
        "print(my_list)"
      ]
    },
    {
      "cell_type": "markdown",
      "source": [
        "Q3: Fill in the following program to count the number of numbers that divisible by 3 in the list below. The program should print out 4."
      ],
      "metadata": {
        "id": "EjIs6JoabuV_"
      }
    },
    {
      "cell_type": "code",
      "source": [
        "numbers = [1, 10, 21, 30, 40, 51, 60, 77]\n",
        "count = 0\n",
        "for num in numbers:\n",
        "  if num % 3 == 0:   # Fill in your code here\n",
        "    count = count + 1   # Fill in your code here\n",
        "print(count) # count should be 4"
      ],
      "metadata": {
        "id": "K44Yot2CcW54",
        "colab": {
          "base_uri": "https://localhost:8080/"
        },
        "outputId": "6a7bb55a-64eb-49d2-c573-1ee894c08b19"
      },
      "execution_count": 1,
      "outputs": [
        {
          "output_type": "stream",
          "name": "stdout",
          "text": [
            "4\n"
          ]
        }
      ]
    },
    {
      "cell_type": "markdown",
      "source": [
        "Q4: Calculate Variance\n",
        "\n",
        "Fill in the following program below to calculate the variance of the given list. The variance's formula is\n",
        "\n",
        "$σ = \\frac{∑_i(x_i - x̄)^2}{n}$,\n",
        "\n",
        "where $x̄$ is the mean $x̄ = \\frac{1}{n}\\sum_ix_i$.\n",
        "\n",
        "Example:\n",
        "``data = [2, 3, 4]``\n",
        "\n",
        "$x̄ =  (2 + 3 + 4)/3 = 3$\n",
        "\n",
        "$σ = ((2 - 3)^2 + (3 - 3)^2 + (4 - 3)^2)/3 = 0.667$\n"
      ],
      "metadata": {
        "id": "bonmEh6KcX_1"
      }
    },
    {
      "cell_type": "code",
      "source": [
        "data = [10,20,31,23,54,71,19,32,29]\n",
        "\n",
        "# First calculate the mean\n",
        "total = 0\n",
        "data = sorted(data)\n",
        "for num in data:\n",
        "  total += num\n",
        "\n",
        "x_bar = total/len(data)\n",
        "print(x_bar)\n",
        "\n",
        "# Second using x_bar, calculate the variance\n",
        "total = 0\n",
        "for num in data:\n",
        "  total += (num - x_bar)**2\n",
        "\n",
        "variance = total/(len(data)-1)\n",
        "print(variance)\n",
        "\n",
        "\n",
        "\n"
      ],
      "metadata": {
        "id": "oAjmUFnac4Wx",
        "colab": {
          "base_uri": "https://localhost:8080/"
        },
        "outputId": "51615442-c572-4200-d7d4-cdce6c365e53"
      },
      "execution_count": 21,
      "outputs": [
        {
          "output_type": "stream",
          "name": "stdout",
          "text": [
            "32.111111111111114\n",
            "361.6111111111111\n"
          ]
        }
      ]
    },
    {
      "cell_type": "markdown",
      "source": [
        "Q5: FizzBuzz\n",
        "\n",
        "Given an integer $n$, return a list $answer$ where:\n",
        "\n",
        "* $\\texttt{answer[i] == \"FizzBuzz\"}$ if $\\texttt{i}$ is divisible by 3 and 5.\n",
        "* $\\texttt{answer[i] == \"Fizz\"}$ if $\\texttt{i}$ is divisible by 3.\n",
        "* $\\texttt{answer[i] == \"Buzz\"}$ if $\\texttt{i}$ is divisible by 5.\n",
        "* $\\texttt{answer[i] == i}$ if none of the above conditions are true.\n",
        "\n",
        "Note:\n",
        "* Special: for people who would like some challenge, try to solve this problem without using $\\texttt{%}$.\n",
        "* This is a famous problem, read more here if you are interested in its history: [The original post](https://blog.codinghorror.com/why-cant-programmers-program/), [some drama](https://www.reddit.com/r/programming/comments/35mq2s/designer_applies_for_js_job_fails_at_fizzbuzz/), and [a more recent post](https://www.reddit.com/r/cscareerquestions/comments/wmfqs5/does_anyone_else_still_get_asked_fizzbuzz/).\n",
        "\n",
        "Example 1:\n",
        "\n",
        "```\n",
        "Enter n: 3\n",
        "[1,2,'Fizz']\n",
        "```\n",
        "\n",
        "Example 2:\n",
        "\n",
        "```\n",
        "Enter n: 5\n",
        "[1,2,'Fizz',4,'Buzz']\n",
        "```\n",
        "\n",
        "Example 3:\n",
        "\n",
        "```\n",
        "Enter n: 15\n",
        "[1,2,'Fizz',4,'Buzz','Fizz',7,8,'Fizz','Buzz',11,'Fizz',13,14,'FizzBuzz']\n",
        "```"
      ],
      "metadata": {
        "id": "_Luxlx-8c4mK"
      }
    },
    {
      "cell_type": "code",
      "source": [
        "n = int(input(\"Enter n: \"))\n",
        "a =[]\n",
        "\n",
        "for i in range(n):\n",
        "  if ((i+1)/3) == (i+1)//3 and ((i+1)/5) == (i+1) // 5:\n",
        "    a.append(\"Fizzbuzz\")\n",
        "  elif ((i+1)/3) == (i+1)// 3:\n",
        "    a.append(\"Fizz\")\n",
        "  elif ((i+1)/5) == (i+1)//5:\n",
        "    a.append(\"Buzz\")\n",
        "  else :\n",
        "    a.append(i+1)\n",
        "\n",
        "print(a)"
      ],
      "metadata": {
        "id": "vjsi7PkhdHIs",
        "colab": {
          "base_uri": "https://localhost:8080/"
        },
        "outputId": "268ec890-275c-40b2-f922-13d851789f48"
      },
      "execution_count": 58,
      "outputs": [
        {
          "output_type": "stream",
          "name": "stdout",
          "text": [
            "Enter n: 15\n",
            "[1, 2, 'Fizz', 4, 'Buzz', 'Fizz', 7, 8, 'Fizz', 'Buzz', 11, 'Fizz', 13, 14, 'Fizzbuzz']\n"
          ]
        }
      ]
    }
  ]
}