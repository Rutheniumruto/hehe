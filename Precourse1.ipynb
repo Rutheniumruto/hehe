{
  "nbformat": 4,
  "nbformat_minor": 0,
  "metadata": {
    "colab": {
      "provenance": [],
      "include_colab_link": true
    },
    "kernelspec": {
      "name": "python3",
      "display_name": "Python 3"
    },
    "language_info": {
      "name": "python"
    }
  },
  "cells": [
    {
      "cell_type": "markdown",
      "metadata": {
        "id": "view-in-github",
        "colab_type": "text"
      },
      "source": [
        "<a href=\"https://colab.research.google.com/github/Rutheniumruto/hehe/blob/main/Precourse1.ipynb\" target=\"_parent\"><img src=\"https://colab.research.google.com/assets/colab-badge.svg\" alt=\"Open In Colab\"/></a>"
      ]
    },
    {
      "cell_type": "markdown",
      "source": [
        "Q1: Write a program to display the following texts\n",
        "\n",
        "```\n",
        "Hello Alice.\n",
        "Hello Bob.\n",
        "The weather is nice today.\n",
        "```"
      ],
      "metadata": {
        "id": "6Aa57CuSQEH1"
      }
    },
    {
      "cell_type": "code",
      "execution_count": 2,
      "metadata": {
        "id": "8MT5wiNAO81d",
        "outputId": "8bc7c503-5789-4a06-955a-fdfc81f9b185",
        "colab": {
          "base_uri": "https://localhost:8080/"
        }
      },
      "outputs": [
        {
          "output_type": "stream",
          "name": "stdout",
          "text": [
            "Hello Alice.\n",
            "Hello Bob.\n",
            "The weather is nice today.\n"
          ]
        }
      ],
      "source": [
        "print (\"Hello Alice.\")\n",
        "print (\"Hello Bob.\")\n",
        "print (\"The weather is nice today.\")\n"
      ]
    },
    {
      "cell_type": "markdown",
      "source": [
        "Q2: Fill in the code below so that the program print out 12"
      ],
      "metadata": {
        "id": "Wb8pt2vURBxO"
      }
    },
    {
      "cell_type": "code",
      "source": [
        "x = 2   # fill in the value here\n",
        "y = 5\n",
        "print(x+y*2)"
      ],
      "metadata": {
        "id": "oBK8xL5IRBfq",
        "outputId": "d3f7d0a0-72be-49d6-846c-ffbe58056749",
        "colab": {
          "base_uri": "https://localhost:8080/"
        }
      },
      "execution_count": 3,
      "outputs": [
        {
          "output_type": "stream",
          "name": "stdout",
          "text": [
            "12\n"
          ]
        }
      ]
    },
    {
      "cell_type": "markdown",
      "source": [
        "Q3: What will the following code print out?\n",
        "\n",
        "```\n",
        "x = 5\n",
        "y = 7\n",
        "x = x + 1\n",
        "y = y + x\n",
        "print(y)\n",
        "```"
      ],
      "metadata": {
        "id": "vAHPbI07SWoZ"
      }
    },
    {
      "cell_type": "code",
      "source": [
        "# write your answer below. You can try to copy and paste the code above to check your answer too.\n",
        "# x + 1 = 6, y = 7 + 6 = 13\n",
        "x = 5\n",
        "y = 7\n",
        "x = x + 1\n",
        "y = y + x\n",
        "print(y)\n",
        "\n"
      ],
      "metadata": {
        "id": "e5Q7K1otSjQG",
        "outputId": "33868b60-81b8-4bbe-fd3b-d94be59c79ec",
        "colab": {
          "base_uri": "https://localhost:8080/"
        }
      },
      "execution_count": 4,
      "outputs": [
        {
          "output_type": "stream",
          "name": "stdout",
          "text": [
            "13\n"
          ]
        }
      ]
    },
    {
      "cell_type": "markdown",
      "source": [
        "Q4: Temperature Convertor\n",
        "\n",
        "Write a program that takes in a temperature in Fahrenheit (F) from the user and convert it into Celsius (C) and print it out.\n",
        "\n",
        "The formula to convert F to C is C = (F-32)*5/9.\n",
        "\n",
        "The output should be in two decimals. You can format it using f-string as follows: ``print(f\"{temperature:.2f}\")``, where ``temperature`` is a variable.\n",
        "\n",
        "Example 1:\n",
        "```\n",
        "Enter Fahrenheit: 32\n",
        "0.00 Celsius.\n",
        "```\n",
        "\n",
        "Example 2:\n",
        "```\n",
        "Enter Fahrenheit: 100\n",
        "37.78 Celsius.\n",
        "```"
      ],
      "metadata": {
        "id": "UlU3rqnJSrOT"
      }
    },
    {
      "cell_type": "code",
      "source": [
        "F =  float(input(\"Enter Fahrenheit: \"))\n",
        "temperature = (F-32)*5/9\n",
        "print(f\"{temperature:.2f}\")\n",
        "\n",
        "\n"
      ],
      "metadata": {
        "id": "yrPf7wBHTnq8",
        "outputId": "82c4a7a4-784a-4f9b-c144-02aebd7068f5",
        "colab": {
          "base_uri": "https://localhost:8080/"
        }
      },
      "execution_count": 9,
      "outputs": [
        {
          "output_type": "stream",
          "name": "stdout",
          "text": [
            "Enter Fahrenheit: 32\n",
            "0.00\n"
          ]
        }
      ]
    },
    {
      "cell_type": "markdown",
      "source": [
        "Q5: Cashier Program\n",
        "\n",
        "Write a cashier program to calculate the total payment. There are 4 items: cookie (5 baht), water (10 baht), soda (20 baht), and popcorn (30).\n",
        "\n",
        "**Input**:\n",
        "\n",
        "- The number of cookie\n",
        "- The number of water\n",
        "- The number of soda\n",
        "- The number of popcorn\n",
        "\n",
        "**Output**:\n",
        "\n",
        "- The total payment\n",
        "\n",
        "Example:\n",
        "\n",
        "```\n",
        "The number of cookie: 3\n",
        "The number of water: 2\n",
        "The number of soda: 0\n",
        "The number of popcorn: 1\n",
        "Total payment = 65 baht.\n",
        "```\n",
        "Explanation: 3x5 + 2x10 + 20x+ 30x1 = 65"
      ],
      "metadata": {
        "id": "6BpQo-D-Tq3w"
      }
    },
    {
      "cell_type": "code",
      "source": [
        "cookie = int(input(\"The number of cookie: \"))\n",
        "water = int(input(\"The number of water: \"))\n",
        "soda = int(input(\"The number of soda: \"))\n",
        "popcorn = int(input(\"The number of popcorn: \"))\n",
        "how_much = cookie*5 + water*10 + soda*20 + popcorn*30\n",
        "print (f\"Total payment= {how_much} baht\")\n",
        "\n",
        "\n",
        "\n"
      ],
      "metadata": {
        "id": "DkNs29e8TqpU",
        "outputId": "dd867449-19be-421c-bac4-9685c2cccdfc",
        "colab": {
          "base_uri": "https://localhost:8080/"
        }
      },
      "execution_count": 13,
      "outputs": [
        {
          "output_type": "stream",
          "name": "stdout",
          "text": [
            "The number of cookie: 3\n",
            "The number of water: 2\n",
            "The number of soda: 0\n",
            "The number of popcorn: 1\n",
            "Total payment= 65 baht\n"
          ]
        }
      ]
    }
  ]
}