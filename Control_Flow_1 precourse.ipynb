{
  "nbformat": 4,
  "nbformat_minor": 0,
  "metadata": {
    "colab": {
      "provenance": [],
      "include_colab_link": true
    },
    "kernelspec": {
      "name": "python3",
      "display_name": "Python 3"
    },
    "language_info": {
      "name": "python"
    }
  },
  "cells": [
    {
      "cell_type": "markdown",
      "metadata": {
        "id": "view-in-github",
        "colab_type": "text"
      },
      "source": [
        "<a href=\"https://colab.research.google.com/github/Rutheniumruto/hehe/blob/main/Control_Flow_1%20precourse.ipynb\" target=\"_parent\"><img src=\"https://colab.research.google.com/assets/colab-badge.svg\" alt=\"Open In Colab\"/></a>"
      ]
    },
    {
      "cell_type": "markdown",
      "source": [
        "Q1: What will the following code print out?\n",
        "\n",
        "```\n",
        "x = 10\n",
        "if x > 20:\n",
        "  print(\"A\")\n",
        "if x == 10:\n",
        "  print(\"B\")\n",
        "if x <= 10:\n",
        "  print(\"C\")\n",
        "```"
      ],
      "metadata": {
        "id": "kF_tkxQcVKJ2"
      }
    },
    {
      "cell_type": "code",
      "execution_count": null,
      "metadata": {
        "id": "i1iwYgZ8VA5V"
      },
      "outputs": [],
      "source": [
        "#B\n",
        "#C"
      ]
    },
    {
      "cell_type": "markdown",
      "source": [
        "Q2: What will the following program print out?\n",
        "\n",
        "```\n",
        "total = 0\n",
        "count = 5\n",
        "while count > 0:\n",
        "  total = total + count\n",
        "  count = count - 1\n",
        "print(total)\n",
        "```"
      ],
      "metadata": {
        "id": "MKhyCGCdWgYb"
      }
    },
    {
      "cell_type": "code",
      "source": [
        "#15"
      ],
      "metadata": {
        "id": "H66Oi2gRWlqp"
      },
      "execution_count": null,
      "outputs": []
    },
    {
      "cell_type": "markdown",
      "source": [
        "Q3: Even or Odd?\n",
        "\n",
        "Write a program that receives an input from the user.\n",
        "\n",
        "Print out 'Even' if the input is an even number and print out 'Odd' if the input is an odd number.\n",
        "\n",
        "**Hint**: You can use `%` to determine 'even' or 'odd'. Think about the remainder of 2, e.g., 4%2 = 0 and 5%2 = 1.  \n",
        "\n",
        "Example 1:\n",
        "```\n",
        "Enter your number: 31\n",
        "Odd\n",
        "```\n",
        "Example 2:\n",
        "```\n",
        "Enter your number: 24\n",
        "Even\n",
        "```"
      ],
      "metadata": {
        "id": "7TeUaOslVuPx"
      }
    },
    {
      "cell_type": "code",
      "source": [
        "test = int(input(\"Enter your number: \"))\n",
        "if test % 2 == 0:\n",
        "  print(\"absolutely even\")\n",
        "else:\n",
        "  print(\"absolutely odd\")\n"
      ],
      "metadata": {
        "id": "AiW1rmn0WIYV",
        "colab": {
          "base_uri": "https://localhost:8080/"
        },
        "outputId": "793ad2ff-7d01-4a83-d1a1-21c371cee971"
      },
      "execution_count": 5,
      "outputs": [
        {
          "output_type": "stream",
          "name": "stdout",
          "text": [
            "Enter your number: 31\n",
            "absolutely odd\n"
          ]
        }
      ]
    },
    {
      "cell_type": "markdown",
      "source": [
        "Q4: Cashier Program ver 2.\n",
        "\n",
        "Write a program that takes in the number of products that a customer buys. <br> There are three products: donut, cupcake, and popcorn. <br> The price of donut is 10 baht each; the price of cupcake is 20 baht each; and the price of popcorn is 40 baht each. <br> Calculate the total payment and apply the discount as listed below.\n",
        "\n",
        "* The customers receive 20% off donuts when they buy 20 or more donuts.\n",
        "* The customers receive 10% off cupcakes when they buy 10 or more cupcakes.\n",
        "\n",
        "**Input:**\n",
        "- The number of donut, cupcake, and popcorn.\n",
        "\n",
        "**Output:**\n",
        "- The original payment in two decimal.\n",
        "- The discounted payment.\n",
        "\n",
        "Example\n",
        "```\n",
        "Enter the number of donut: 30\n",
        "Enter the number of cupcake: 20\n",
        "Enter the number of popcorn:  5\n",
        "The total payment befor discount is 900.00 baht.\n",
        "The payment after discount is 800.00 baht.\n",
        "```\n",
        "\n",
        "```\n",
        "Enter the number of donut: 5\n",
        "Enter the number of cupcake: 20\n",
        "Enter the number of popcorn:  3\n",
        "The total payment befor discount is 570.00 baht.\n",
        "The payment after discount is 530.00 baht.\n",
        "```\n",
        "\n",
        "```\n",
        "Enter the number of donut: 10\n",
        "Enter the number of cupcake: 10\n",
        "Enter the number of popcorn:  5\n",
        "The total payment befor discount is 500.00 baht.\n",
        "The payment after discount is 480.00 baht.\n",
        "```"
      ],
      "metadata": {
        "id": "SV1CamZhWIoh"
      }
    },
    {
      "cell_type": "code",
      "source": [
        "donut = int(input(\"Enter number of donut:\"))\n",
        "cupcake = int(input(\"Enter number of cupcake: \"))\n",
        "popcorn = int(input(\"Enter number of cupcake\"))\n",
        "total = donut*10 + cupcake*20 + popcorn*40\n",
        "print (f\"Original price= {total:.2f} baht\")\n",
        "if donut >= 20:\n",
        "  total = total - total*0.2\n",
        "if cupcake >= 10:\n",
        "  total = total - total*0.1\n",
        "  print (f\"Price after discount= {total:.2f} baht\")\n"
      ],
      "metadata": {
        "id": "8uTb_s2RWf-3",
        "colab": {
          "base_uri": "https://localhost:8080/"
        },
        "outputId": "4e4e6519-50e3-4c14-f359-d5ccb2456790"
      },
      "execution_count": 7,
      "outputs": [
        {
          "output_type": "stream",
          "name": "stdout",
          "text": [
            "Enter number of donut:10\n",
            "Enter number of cupcake: 10\n",
            "Enter number of cupcake5\n",
            "Original price= 500.00 baht\n",
            "Price after discount= 450.00 baht\n"
          ]
        }
      ]
    },
    {
      "cell_type": "markdown",
      "source": [
        "Q5: Nim game\n",
        "\n",
        "Write a program to create a Nim game. In this game, there are two players. Each player takes turn to count the number down by 1 or 2. Who count to zero first lose. The starting amount is 10.\n",
        "\n",
        "Example\n",
        "```\n",
        "First player turn: 1\n",
        "Remaining = 9\n",
        "Second player turn: 2\n",
        "Remaining = 7\n",
        "First player turn: 1\n",
        "Remaining = 6\n",
        "Second player turn: 2\n",
        "Remaining = 4\n",
        "First player turn: 1\n",
        "Remaining = 3\n",
        "Second player turn: 2\n",
        "Remaining = 1\n",
        "First player turn: 1\n",
        "Remaining = 0\n",
        "Second player wins.\n",
        "```"
      ],
      "metadata": {
        "id": "NgUaq75cWmAN"
      }
    },
    {
      "cell_type": "code",
      "source": [
        "remaining = 10\n",
        "turn = 'First'\n",
        "\n",
        "while count < 11 : # fill in your code here\n",
        "  if turn == 'First':\n",
        "    num = int(input(\"First player turn: \")) # get input from the first player\n",
        "    remaining = remaining - num\n",
        "    print(f\"Remaining = {remaining}\")\n",
        "  else:\n",
        "    num = int(input(\"Second player turn: \")) # get input from the second player\n",
        "    remaining = remaining - num\n",
        "    print(f\"Remaining = {remaining}\")\n",
        "\n",
        "  # Update the turn\n",
        "  if turn == 'First':\n",
        "    turn = count - 1\n",
        "  else:\n",
        "    turn = count - 2\n",
        "\n",
        "#Fill in the code below to determine the winner\n",
        "if turn == 'First':\n",
        "  print(\"Second player wins\")\n",
        "else:\n",
        "  print(\"First player wins\")\n"
      ],
      "metadata": {
        "id": "aKYjxVRaWoT_"
      },
      "execution_count": null,
      "outputs": []
    }
  ]
}